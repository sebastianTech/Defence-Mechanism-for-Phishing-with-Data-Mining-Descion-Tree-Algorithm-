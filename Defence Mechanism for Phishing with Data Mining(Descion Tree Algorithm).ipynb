{
 "cells": [
  {
   "cell_type": "code",
   "execution_count": 1,
   "metadata": {},
   "outputs": [
    {
     "data": {
      "text/plain": [
       "'C:\\\\Users\\\\Giantstride\\\\Downloads'"
      ]
     },
     "execution_count": 1,
     "metadata": {},
     "output_type": "execute_result"
    }
   ],
   "source": [
    "import os\n",
    "\n",
    "os.getcwd()"
   ]
  },
  {
   "cell_type": "code",
   "execution_count": 2,
   "metadata": {},
   "outputs": [],
   "source": [
    "from sklearn import tree\n",
    "from sklearn.metrics import accuracy_score\n",
    "from sklearn.metrics import confusion_matrix\n",
    "from sklearn.metrics import precision_score\n",
    "from sklearn.metrics import classification_report\n",
    "\n",
    "import numpy as np"
   ]
  },
  {
   "cell_type": "code",
   "execution_count": 3,
   "metadata": {},
   "outputs": [],
   "source": [
    "training_data = np.genfromtxt(r'sebastian.csv', delimiter=',', dtype=np.int32)"
   ]
  },
  {
   "cell_type": "code",
   "execution_count": 4,
   "metadata": {},
   "outputs": [],
   "source": [
    "outputs = training_data[:,-1]"
   ]
  },
  {
   "cell_type": "code",
   "execution_count": 5,
   "metadata": {},
   "outputs": [],
   "source": [
    "inputs = training_data[:,:-1]"
   ]
  },
  {
   "cell_type": "code",
   "execution_count": 6,
   "metadata": {},
   "outputs": [],
   "source": [
    "training_inputs = inputs[:1500]       #  Select first 1500 rows (0-1499) excluding last column\n",
    "training_outputs = outputs[:1500]     #  Select first 1500 rows (0-1499) with only last column\n",
    "testing_inputs = inputs[1500:]\t\t  #  Select remaining rows (1500-2455) excluding last column\n",
    "testing_outputs = outputs[1500:]      #  Select remaining rows (1500-2455) with only last column"
   ]
  },
  {
   "cell_type": "code",
   "execution_count": 7,
   "metadata": {},
   "outputs": [],
   "source": [
    "def load_data():\n",
    "    \n",
    "\n",
    "    #Get the data\n",
    "    training_data = np.genfromtxt(r'sebastian.csv', delimiter=',', dtype=np.int32)\n",
    "\n",
    "    \n",
    "    inputs = training_data[:,:-1]         # Get the inputs - All rows and all columns except the last one \n",
    "\n",
    "    \n",
    "    outputs = training_data[:,-1]         # Get the labels\n",
    "\n",
    "    # Divide the data set into training and testing. Total=2456\n",
    "    #  Training dataset (1500 rows)\n",
    "    #  Training dataset (956 rows) \t\n",
    "    training_inputs = inputs[:1500]       #  Select first 1500 rows (0-1499) excluding last column\n",
    "    training_outputs = outputs[:1500]     #  Select first 1500 rows (0-1499) with only last column\n",
    "    testing_inputs = inputs[1500:]\t\t  #  Select remaining rows (1500-2455) excluding last column\n",
    "    testing_outputs = outputs[1500:]      #  Select remaining rows (1500-2455) with only last column\n",
    "\n",
    "    # Return the four arrays\n",
    "    return training_inputs, training_outputs, testing_inputs, testing_outputs"
   ]
  },
  {
   "cell_type": "code",
   "execution_count": 8,
   "metadata": {},
   "outputs": [
    {
     "name": "stdout",
     "output_type": "stream",
     "text": [
      "The accuracy of your decision tree on testing data is: 81.17%\n",
      "confusionmatrix=\n",
      " [[400 134]\n",
      " [ 46 376]]\n",
      "The error rate of the decision tree on testing data is: 18.83%\n",
      "The classification report is:\n",
      "               precision    recall  f1-score   support\n",
      "\n",
      "          -1       0.90      0.75      0.82       534\n",
      "           1       0.74      0.89      0.81       422\n",
      "\n",
      "    accuracy                           0.81       956\n",
      "   macro avg       0.82      0.82      0.81       956\n",
      "weighted avg       0.83      0.81      0.81       956\n",
      "\n"
     ]
    }
   ],
   "source": [
    "if __name__ == '__main__':        # Entry point of the program\n",
    "    train_inputs, train_outputs, test_inputs, test_outputs = load_data()      # get  the data \n",
    "\n",
    "    classifier = tree.DecisionTreeClassifier()        # Create a decision tree classifier model using scikit-learn\n",
    "   # classifier=lr()\n",
    "  \n",
    "    classifier.fit(train_inputs, train_outputs)       # Train the classifier model\n",
    "    \n",
    "    predictions = classifier.predict(test_inputs)      # make the predictions on testing data\n",
    "\t\n",
    "    confusionmatrix=confusion_matrix(test_outputs,predictions)       # Create a confusion matrix \n",
    "   \n",
    "    accuracy = 100.0 * accuracy_score(test_outputs, predictions)     # Calculate the accuracy\n",
    "    print (\"The accuracy of your decision tree on testing data is: \" + str(round(accuracy,2))+ \"%\")\n",
    "    print(\"confusionmatrix=\\n\",confusionmatrix)\n",
    "\t\n",
    "    error=(1-accuracy/100.0)*100.0\n",
    "    print(\"The error rate of the decision tree on testing data is: \" + str(round(error,2)) + \"%\")\n",
    "\t\n",
    "    report=classification_report(test_outputs,predictions)\n",
    "    print(\"The classification report is:\\n \"+ str(report))\n",
    "#\n",
    "#    dot_data = tree.export_graphviz(classifier, out_file=None,\n",
    "#\t                      feature_names=[\"Having_IP_Address\",\"URL_Length\",\"Shortening_service\",\"@\",\"//\",\"Prefix_suffix\",\n",
    "#\t\t\t\t\t\t  \"having Subdomain\",\"SSLfinal_state\", \"Domain_Registration_length\",\"favicon\",\"port\",\"HTTPS_Token\",\"Request_URL\",\n",
    "#\t\t\t\t\t\t  \"URL_of_Anchor\",\"Links_in_Tags\",\"SFH\",\"Submitiing_to_email\",\"Abnormal_URL\",\"Redirect\",\" On_mouseover\",\n",
    "#\t\t\t\t\t\t  \"Rightclick\",\"popup\",\"iframe\",\"ageofdomain\",\"DNS\",\"web_traffic\",\"pagerank\",\n",
    "#\t\t\t\t\t\t  \"google_index\",\"links\",\"statistical_report\"],class_names=[\"legitimate\",\"Malicious\"],\n",
    "#                         filled=True, rounded=True,  \n",
    "#                         special_characters=True)  \n",
    "#    graph = graphviz.Source(dot_data)  \n",
    "#    graph.render(\"map\",view=True)\n",
    "    "
   ]
  },
  {
   "cell_type": "code",
   "execution_count": null,
   "metadata": {},
   "outputs": [],
   "source": []
  }
 ],
 "metadata": {
  "kernelspec": {
   "display_name": "Python 3",
   "language": "python",
   "name": "python3"
  },
  "language_info": {
   "codemirror_mode": {
    "name": "ipython",
    "version": 3
   },
   "file_extension": ".py",
   "mimetype": "text/x-python",
   "name": "python",
   "nbconvert_exporter": "python",
   "pygments_lexer": "ipython3",
   "version": "3.7.3"
  }
 },
 "nbformat": 4,
 "nbformat_minor": 2
}
